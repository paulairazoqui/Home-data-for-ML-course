{
 "cells": [
  {
   "cell_type": "markdown",
   "id": "3ab97380",
   "metadata": {},
   "source": [
    "# **Features engineering**"
   ]
  },
  {
   "cell_type": "code",
   "execution_count": 8,
   "id": "b46a0ff3",
   "metadata": {},
   "outputs": [],
   "source": [
    "import pandas as pd\n",
    "import numpy as np\n",
    "from sklearn.preprocessing import PolynomialFeatures"
   ]
  },
  {
   "cell_type": "code",
   "execution_count": 9,
   "id": "781d8dbe",
   "metadata": {},
   "outputs": [],
   "source": [
    "train = pd.read_csv(r'data/train_final.csv')"
   ]
  },
  {
   "cell_type": "markdown",
   "id": "01760425",
   "metadata": {},
   "source": [
    "## 🚗 Creación de la variable `HasGarage`\n",
    "\n",
    "Para reflejar explícitamente si una propiedad cuenta con garage o no, se creó la variable binaria `HasGarage`. Esta variable se construyó a partir de características físicas objetivas:\n",
    "\n",
    "- `GarageArea` > 0\n",
    "- `GarageCars` > 0\n",
    "\n",
    "Si alguna de estas condiciones se cumple, `HasGarage = 1`, en caso contrario, `HasGarage = 0`.\n",
    "\n",
    "Esta variable será útil para modelado, especialmente al combinar con transformaciones polinómicas o análisis de interacciones."
   ]
  },
  {
   "cell_type": "code",
   "execution_count": 10,
   "id": "976260e9",
   "metadata": {},
   "outputs": [],
   "source": [
    "# Crear columna binaria HasGarage basada en si tiene espacio o autos asignados\n",
    "train['HasGarage'] = (\n",
    "    (train['GarageArea'] > 0) | \n",
    "    (train['GarageCars'] > 0)\n",
    ").astype(int)\n"
   ]
  },
  {
   "cell_type": "code",
   "execution_count": 11,
   "id": "d112fe6f",
   "metadata": {},
   "outputs": [
    {
     "name": "stdout",
     "output_type": "stream",
     "text": [
      "✅ Verificación de registros sin garage:\n",
      "GarageArea > 0: 0\n",
      "GarageCars > 0: 0\n",
      "GarageYrBlt > 0: 0\n",
      "Total de registros sin garage (HasGarage == 0): 81\n"
     ]
    }
   ],
   "source": [
    "# Filtrar registros sin garage (HasGarage == 0)\n",
    "sin_garage = train[train['HasGarage'] == 0]\n",
    "\n",
    "# Verificar que GarageArea, GarageCars y GarageYrBlt sean cero\n",
    "print(\"✅ Verificación de registros sin garage:\")\n",
    "print(\"GarageArea > 0:\", (sin_garage['GarageArea'] > 0).sum())\n",
    "print(\"GarageCars > 0:\", (sin_garage['GarageCars'] > 0).sum())\n",
    "print(\"GarageYrBlt > 0:\", (sin_garage['GarageYrBlt'] > 0).sum())\n",
    "print(\"Total de registros sin garage (HasGarage == 0):\", sin_garage.shape[0])\n"
   ]
  },
  {
   "cell_type": "code",
   "execution_count": 12,
   "id": "a040318d",
   "metadata": {},
   "outputs": [
    {
     "name": "stdout",
     "output_type": "stream",
     "text": [
      "📌 Correlación filtrada GarageYrBlt vs SalePrice (solo con garage): 0.548\n"
     ]
    }
   ],
   "source": [
    "cor_gyb = train[train['HasGarage'] == 1][['GarageYrBlt', 'SalePrice']].corr().iloc[0, 1]\n",
    "print(f\"📌 Correlación filtrada GarageYrBlt vs SalePrice (solo con garage): {cor_gyb:.3f}\")\n"
   ]
  },
  {
   "cell_type": "markdown",
   "id": "bee654c9",
   "metadata": {},
   "source": [
    "## 📊 Selección de Variables Numéricas Fuertemente Correlacionadas con `SalePrice`\n",
    "\n",
    "🎯 **Objetivo**: Seleccionar automáticamente las variables numéricas que presentan una alta correlación con `SalePrice`, para usarlas luego en una expansión polinómica con `PolynomialFeatures`.\n",
    "\n",
    "📌 **Criterios de selección**:\n",
    "- Variables **numéricas continuas** (float o int)\n",
    "- Correlación absoluta con `SalePrice` **mayor a 0.4**\n",
    "- Se excluyen columnas target, IDs y categóricas codificadas"
   ]
  },
  {
   "cell_type": "code",
   "execution_count": 13,
   "id": "44497973",
   "metadata": {},
   "outputs": [
    {
     "name": "stdout",
     "output_type": "stream",
     "text": [
      "📈 Variables numéricas con correlación fuerte (> 0.4) con SalePrice:\n",
      "OverallQual          0.823505\n",
      "GrLivArea            0.733793\n",
      "GarageCars           0.685087\n",
      "ExterQual            0.681659\n",
      "GarageArea           0.668695\n",
      "KitchenQual          0.668332\n",
      "TotalBsmtSF          0.639330\n",
      "BsmtQual             0.614882\n",
      "GarageFinish         0.606831\n",
      "1stFlrSF             0.606006\n",
      "FullBath             0.598591\n",
      "YearBuilt            0.588787\n",
      "YearRemodAdd         0.568595\n",
      "FireplaceQu          0.540808\n",
      "Foundation_PConc     0.538138\n",
      "TotRmsAbvGrd         0.536313\n",
      "Fireplaces           0.484236\n",
      "HeatingQC            0.477931\n",
      "BsmtFinType1_GLQ     0.441554\n",
      "MasVnrArea           0.429103\n",
      "GarageType_Attchd    0.414782\n",
      "dtype: float64\n"
     ]
    }
   ],
   "source": [
    "# Asegurarse de tener solo variables numéricas\n",
    "numeric_cols = train.select_dtypes(include=['int64', 'float64']).copy()\n",
    "\n",
    "# Excluir la variable target y cualquier ID\n",
    "excluded = ['SalePrice', 'Id']\n",
    "numeric_cols = numeric_cols.drop(columns=[col for col in excluded if col in numeric_cols.columns])\n",
    "\n",
    "# Calcular correlación con la variable target\n",
    "correlations = numeric_cols.corrwith(train['SalePrice'])\n",
    "\n",
    "# Filtrar por correlación fuerte\n",
    "strong_features = correlations[correlations.abs() > 0.4].sort_values(ascending=False)\n",
    "\n",
    "# Mostrar resultado\n",
    "print(\"📈 Variables numéricas con correlación fuerte (> 0.4) con SalePrice:\")\n",
    "print(strong_features)\n",
    "\n",
    "# Guardar lista de features para usar en PolynomialFeatures\n",
    "selected_features = strong_features.index.tolist()\n"
   ]
  },
  {
   "cell_type": "markdown",
   "id": "8fbd3805",
   "metadata": {},
   "source": [
    "## 🔁 Expansión Polinómica de Features Seleccionadas\n",
    "\n",
    "🎯 **Objetivo**: Generar nuevas variables que representen combinaciones cuadráticas entre las features más correlacionadas con `SalePrice`, usando `PolynomialFeatures`.\n",
    "\n",
    "📌 **Características del proceso**:\n",
    "- Se seleccionaron automáticamente variables numéricas con |correlación| > 0.4\n",
    "- Se aplicó `PolynomialFeatures(degree=2, interaction_only=False, include_bias=False)`\n",
    "- Esto incluye:\n",
    "  - Términos cuadráticos (e.g., `GrLivArea²`)\n",
    "  - Interacciones cruzadas (e.g., `GrLivArea * GarageArea`)\n",
    "- Se evita incluir un término constante (bias)"
   ]
  },
  {
   "cell_type": "code",
   "execution_count": 14,
   "id": "7eecaaf9",
   "metadata": {},
   "outputs": [
    {
     "name": "stdout",
     "output_type": "stream",
     "text": [
      "✅ Forma del dataset original: (1441, 22)\n",
      "📈 Forma del dataset expandido: (1441, 275)\n"
     ]
    }
   ],
   "source": [
    "# Features seleccionadas\n",
    "selected_features = strong_features.index.tolist()\n",
    "\n",
    "# Agregar manualmente GarageYrBlt si no estaba incluida\n",
    "if 'GarageYrBlt' not in selected_features:\n",
    "    selected_features.append('GarageYrBlt')\n",
    "\n",
    "# Subset del dataset con esas columnas\n",
    "X_poly_base = train[selected_features]\n",
    "\n",
    "# Crear objeto PolynomialFeatures (cuadrático)\n",
    "poly = PolynomialFeatures(degree=2, interaction_only=False, include_bias=False)\n",
    "\n",
    "# Aplicar transformación\n",
    "X_poly = poly.fit_transform(X_poly_base)\n",
    "\n",
    "# Obtener nombres de las nuevas columnas\n",
    "poly_feature_names = poly.get_feature_names_out(selected_features)\n",
    "\n",
    "# Convertir a DataFrame para explorarlo\n",
    "X_poly_df = pd.DataFrame(X_poly, columns=poly_feature_names)\n",
    "\n",
    "# Mostrar forma\n",
    "print(f\"✅ Forma del dataset original: {X_poly_base.shape}\")\n",
    "print(f\"📈 Forma del dataset expandido: {X_poly_df.shape}\")\n"
   ]
  }
 ],
 "metadata": {
  "kernelspec": {
   "display_name": "Python 3",
   "language": "python",
   "name": "python3"
  },
  "language_info": {
   "codemirror_mode": {
    "name": "ipython",
    "version": 3
   },
   "file_extension": ".py",
   "mimetype": "text/x-python",
   "name": "python",
   "nbconvert_exporter": "python",
   "pygments_lexer": "ipython3",
   "version": "3.13.1"
  }
 },
 "nbformat": 4,
 "nbformat_minor": 5
}
