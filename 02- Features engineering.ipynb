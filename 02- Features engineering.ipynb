{
 "cells": [
  {
   "cell_type": "markdown",
   "id": "3ab97380",
   "metadata": {},
   "source": [
    "# **Features engineering**"
   ]
  },
  {
   "cell_type": "code",
   "execution_count": 8,
   "id": "b46a0ff3",
   "metadata": {},
   "outputs": [],
   "source": [
    "import pandas as pd\n",
    "import numpy as np\n",
    "from sklearn.preprocessing import PolynomialFeatures"
   ]
  },
  {
   "cell_type": "code",
   "execution_count": 9,
   "id": "781d8dbe",
   "metadata": {},
   "outputs": [],
   "source": [
    "train = pd.read_csv(r'data/train_final.csv')"
   ]
  },
  {
   "cell_type": "markdown",
   "id": "01760425",
   "metadata": {},
   "source": [
    "## 🚗 Creación de la variable `HasGarage`\n",
    "\n",
    "Para reflejar explícitamente si una propiedad cuenta con garage o no, se creó la variable binaria `HasGarage`. Esta variable se construyó a partir de características físicas objetivas:\n",
    "\n",
    "- `GarageArea` > 0\n",
    "- `GarageCars` > 0\n",
    "\n",
    "Si alguna de estas condiciones se cumple, `HasGarage = 1`, en caso contrario, `HasGarage = 0`.\n",
    "\n",
    "Esta variable será útil para modelado, especialmente al combinar con transformaciones polinómicas o análisis de interacciones."
   ]
  },
  {
   "cell_type": "code",
   "execution_count": 10,
   "id": "976260e9",
   "metadata": {},
   "outputs": [],
   "source": [
    "# Crear columna binaria HasGarage basada en si tiene espacio o autos asignados\n",
    "train['HasGarage'] = (\n",
    "    (train['GarageArea'] > 0) | \n",
    "    (train['GarageCars'] > 0)\n",
    ").astype(int)\n"
   ]
  },
  {
   "cell_type": "code",
   "execution_count": 11,
   "id": "d112fe6f",
   "metadata": {},
   "outputs": [
    {
     "name": "stdout",
     "output_type": "stream",
     "text": [
      "✅ Verificación de registros sin garage:\n",
      "GarageArea > 0: 0\n",
      "GarageCars > 0: 0\n",
      "GarageYrBlt > 0: 0\n",
      "Total de registros sin garage (HasGarage == 0): 81\n"
     ]
    }
   ],
   "source": [
    "# Filtrar registros sin garage (HasGarage == 0)\n",
    "sin_garage = train[train['HasGarage'] == 0]\n",
    "\n",
    "# Verificar que GarageArea, GarageCars y GarageYrBlt sean cero\n",
    "print(\"✅ Verificación de registros sin garage:\")\n",
    "print(\"GarageArea > 0:\", (sin_garage['GarageArea'] > 0).sum())\n",
    "print(\"GarageCars > 0:\", (sin_garage['GarageCars'] > 0).sum())\n",
    "print(\"GarageYrBlt > 0:\", (sin_garage['GarageYrBlt'] > 0).sum())\n",
    "print(\"Total de registros sin garage (HasGarage == 0):\", sin_garage.shape[0])\n"
   ]
  },
  {
   "cell_type": "code",
   "execution_count": 12,
   "id": "a040318d",
   "metadata": {},
   "outputs": [
    {
     "name": "stdout",
     "output_type": "stream",
     "text": [
      "📌 Correlación filtrada GarageYrBlt vs SalePrice (solo con garage): 0.548\n"
     ]
    }
   ],
   "source": [
    "cor_gyb = train[train['HasGarage'] == 1][['GarageYrBlt', 'SalePrice']].corr().iloc[0, 1]\n",
    "print(f\"📌 Correlación filtrada GarageYrBlt vs SalePrice (solo con garage): {cor_gyb:.3f}\")\n"
   ]
  },
  {
   "cell_type": "markdown",
   "id": "bee654c9",
   "metadata": {},
   "source": [
    "## 📊 Selección de Variables Numéricas Fuertemente Correlacionadas con `SalePrice`\n",
    "\n",
    "🎯 **Objetivo**: Seleccionar automáticamente las variables numéricas que presentan una alta correlación con `SalePrice`, para usarlas luego en una expansión polinómica con `PolynomialFeatures`.\n",
    "\n",
    "📌 **Criterios de selección**:\n",
    "- Variables **numéricas continuas** (float o int)\n",
    "- Correlación absoluta con `SalePrice` **mayor a 0.4**\n",
    "- Se excluyen columnas target, IDs y categóricas codificadas"
   ]
  },
  {
   "cell_type": "code",
   "execution_count": 13,
   "id": "44497973",
   "metadata": {},
   "outputs": [
    {
     "name": "stdout",
     "output_type": "stream",
     "text": [
      "📈 Variables numéricas con correlación fuerte (> 0.4) con SalePrice:\n",
      "OverallQual          0.823505\n",
      "GrLivArea            0.733793\n",
      "GarageCars           0.685087\n",
      "ExterQual            0.681659\n",
      "GarageArea           0.668695\n",
      "KitchenQual          0.668332\n",
      "TotalBsmtSF          0.639330\n",
      "BsmtQual             0.614882\n",
      "GarageFinish         0.606831\n",
      "1stFlrSF             0.606006\n",
      "FullBath             0.598591\n",
      "YearBuilt            0.588787\n",
      "YearRemodAdd         0.568595\n",
      "FireplaceQu          0.540808\n",
      "Foundation_PConc     0.538138\n",
      "TotRmsAbvGrd         0.536313\n",
      "Fireplaces           0.484236\n",
      "HeatingQC            0.477931\n",
      "BsmtFinType1_GLQ     0.441554\n",
      "MasVnrArea           0.429103\n",
      "GarageType_Attchd    0.414782\n",
      "dtype: float64\n"
     ]
    }
   ],
   "source": [
    "# Asegurarse de tener solo variables numéricas\n",
    "numeric_cols = train.select_dtypes(include=['int64', 'float64']).copy()\n",
    "\n",
    "# Excluir la variable target y cualquier ID\n",
    "excluded = ['SalePrice', 'Id']\n",
    "numeric_cols = numeric_cols.drop(columns=[col for col in excluded if col in numeric_cols.columns])\n",
    "\n",
    "# Calcular correlación con la variable target\n",
    "correlations = numeric_cols.corrwith(train['SalePrice'])\n",
    "\n",
    "# Filtrar por correlación fuerte\n",
    "strong_features = correlations[correlations.abs() > 0.4].sort_values(ascending=False)\n",
    "\n",
    "# Mostrar resultado\n",
    "print(\"📈 Variables numéricas con correlación fuerte (> 0.4) con SalePrice:\")\n",
    "print(strong_features)\n",
    "\n",
    "# Guardar lista de features para usar en PolynomialFeatures\n",
    "selected_features = strong_features.index.tolist()\n"
   ]
  },
  {
   "cell_type": "markdown",
   "id": "8fbd3805",
   "metadata": {},
   "source": [
    "## 🔁 Expansión Polinómica de Features Seleccionadas\n",
    "\n",
    "🎯 **Objetivo**: Generar nuevas variables que representen combinaciones cuadráticas entre las features más correlacionadas con `SalePrice`, usando `PolynomialFeatures`.\n",
    "\n",
    "📌 **Características del proceso**:\n",
    "- Se seleccionaron automáticamente variables numéricas con |correlación| > 0.4\n",
    "- Se aplicó `PolynomialFeatures(degree=2, interaction_only=False, include_bias=False)`\n",
    "- Esto incluye:\n",
    "  - Términos cuadráticos (e.g., `GrLivArea²`)\n",
    "  - Interacciones cruzadas (e.g., `GrLivArea * GarageArea`)\n",
    "- Se evita incluir un término constante (bias)"
   ]
  },
  {
   "cell_type": "code",
   "execution_count": 14,
   "id": "7eecaaf9",
   "metadata": {},
   "outputs": [
    {
     "name": "stdout",
     "output_type": "stream",
     "text": [
      "✅ Forma del dataset original: (1441, 22)\n",
      "📈 Forma del dataset expandido: (1441, 275)\n"
     ]
    }
   ],
   "source": [
    "# Features seleccionadas\n",
    "selected_features = strong_features.index.tolist()\n",
    "\n",
    "# Agregar manualmente GarageYrBlt si no estaba incluida\n",
    "if 'GarageYrBlt' not in selected_features:\n",
    "    selected_features.append('GarageYrBlt')\n",
    "\n",
    "# Subset del dataset con esas columnas\n",
    "X_poly_base = train[selected_features]\n",
    "\n",
    "# Crear objeto PolynomialFeatures (cuadrático)\n",
    "poly = PolynomialFeatures(degree=2, interaction_only=False, include_bias=False)\n",
    "\n",
    "# Aplicar transformación\n",
    "X_poly = poly.fit_transform(X_poly_base)\n",
    "\n",
    "# Obtener nombres de las nuevas columnas\n",
    "poly_feature_names = poly.get_feature_names_out(selected_features)\n",
    "\n",
    "# Convertir a DataFrame para explorarlo\n",
    "X_poly_df = pd.DataFrame(X_poly, columns=poly_feature_names)\n",
    "\n",
    "# Mostrar forma\n",
    "print(f\"✅ Forma del dataset original: {X_poly_base.shape}\")\n",
    "print(f\"📈 Forma del dataset expandido: {X_poly_df.shape}\")\n"
   ]
  },
  {
   "cell_type": "markdown",
   "id": "6c1f9134",
   "metadata": {},
   "source": [
    "## 📐 Selección de Features Polinómicas con F-score\n",
    "\n",
    "Se aplicó `PolynomialFeatures` (grado 2) a 22 variables altamente correlacionadas con `SalePrice`. Luego, se utilizó `SelectKBest` con `f_regression` para filtrar las variables polinómicas más explicativas.\n",
    "\n",
    "- Total de variables generadas: 275  \n",
    "- Umbral aplicado: **F_score > 1000**  \n",
    "- Features seleccionadas: **115**\n",
    "\n",
    "Esto permite conservar las combinaciones no lineales más informativas, reduciendo dimensionalidad y ruido en el modelado.\n"
   ]
  },
  {
   "cell_type": "code",
   "execution_count": 18,
   "id": "a4010d8c",
   "metadata": {},
   "outputs": [
    {
     "name": "stdout",
     "output_type": "stream",
     "text": [
      "Features seleccionadas: 115\n"
     ]
    }
   ],
   "source": [
    "from sklearn.feature_selection import f_regression\n",
    "\n",
    "# Obtener scores de F y p-values\n",
    "F_scores, p_values = f_regression(X, y)\n",
    "\n",
    "# Crear DataFrame para análisis\n",
    "scores_df = pd.DataFrame({\n",
    "    'Feature': X.columns,\n",
    "    'F_score': F_scores,\n",
    "    'p_value': p_values\n",
    "})\n",
    "\n",
    "# Filtrar por umbral (por ejemplo, F_score > 1000 o p < 0.05)\n",
    "selected = scores_df[scores_df['F_score'] > 1000]  # ajustá el umbral a gusto\n",
    "\n",
    "# Mostrar cuántas quedaron\n",
    "print(f\"Features seleccionadas: {selected.shape[0]}\")\n",
    "\n",
    "# Dataset final\n",
    "X_filtered = X[selected['Feature'].values]\n"
   ]
  },
  {
   "cell_type": "code",
   "execution_count": 17,
   "id": "77ec6be2",
   "metadata": {},
   "outputs": [
    {
     "data": {
      "text/plain": [
       "count     275.000000\n",
       "mean     1043.261630\n",
       "std       688.390213\n",
       "min       161.076961\n",
       "25%       507.389334\n",
       "50%       851.024202\n",
       "75%      1342.491729\n",
       "max      4000.682100\n",
       "Name: F_score, dtype: float64"
      ]
     },
     "execution_count": 17,
     "metadata": {},
     "output_type": "execute_result"
    }
   ],
   "source": [
    "scores_df.sort_values(by=\"F_score\").head(10)\n",
    "scores_df[\"F_score\"].describe()\n"
   ]
  },
  {
   "cell_type": "code",
   "execution_count": null,
   "id": "ca3b8327",
   "metadata": {},
   "outputs": [
    {
     "name": "stdout",
     "output_type": "stream",
     "text": [
      "✅ Dataset final reducido con KBest: (1441, 50)\n"
     ]
    }
   ],
   "source": [
    "from sklearn.feature_selection import SelectKBest, f_regression\n",
    "\n",
    "# Separar X e y\n",
    "X = X_poly_df\n",
    "y = train['SalePrice']\n",
    "\n",
    "# Selección de features\n",
    "selector = SelectKBest(score_func=f_regression, k=50)  # podés ajustar k\n",
    "X_selected = selector.fit_transform(X, y)\n",
    "\n",
    "# Obtener nombres de las columnas seleccionadas\n",
    "selected_mask = selector.get_support()\n",
    "selected_names = X.columns[selected_mask]\n",
    "\n",
    "# Convertir a DataFrame\n",
    "X_kbest_df = pd.DataFrame(X_selected, columns=selected_names)\n",
    "\n",
    "# Confirmar forma\n",
    "print(f\"✅ Dataset final reducido con KBest: {X_kbest_df.shape}\")"
   ]
  },
  {
   "cell_type": "code",
   "execution_count": 19,
   "id": "bb46b9e1",
   "metadata": {},
   "outputs": [
    {
     "data": {
      "text/html": [
       "<div>\n",
       "<style scoped>\n",
       "    .dataframe tbody tr th:only-of-type {\n",
       "        vertical-align: middle;\n",
       "    }\n",
       "\n",
       "    .dataframe tbody tr th {\n",
       "        vertical-align: top;\n",
       "    }\n",
       "\n",
       "    .dataframe thead th {\n",
       "        text-align: right;\n",
       "    }\n",
       "</style>\n",
       "<table border=\"1\" class=\"dataframe\">\n",
       "  <thead>\n",
       "    <tr style=\"text-align: right;\">\n",
       "      <th></th>\n",
       "      <th>OverallQual</th>\n",
       "      <th>GrLivArea</th>\n",
       "      <th>GarageCars</th>\n",
       "      <th>ExterQual</th>\n",
       "      <th>GarageArea</th>\n",
       "      <th>KitchenQual</th>\n",
       "      <th>OverallQual^2</th>\n",
       "      <th>OverallQual GrLivArea</th>\n",
       "      <th>OverallQual GarageCars</th>\n",
       "      <th>OverallQual ExterQual</th>\n",
       "      <th>...</th>\n",
       "      <th>GarageFinish FullBath</th>\n",
       "      <th>GarageFinish TotRmsAbvGrd</th>\n",
       "      <th>GarageFinish HeatingQC</th>\n",
       "      <th>1stFlrSF FullBath</th>\n",
       "      <th>1stFlrSF YearBuilt</th>\n",
       "      <th>1stFlrSF YearRemodAdd</th>\n",
       "      <th>FullBath HeatingQC</th>\n",
       "      <th>FullBath GarageYrBlt</th>\n",
       "      <th>YearBuilt YearRemodAdd</th>\n",
       "      <th>TotRmsAbvGrd HeatingQC</th>\n",
       "    </tr>\n",
       "  </thead>\n",
       "  <tbody>\n",
       "    <tr>\n",
       "      <th>0</th>\n",
       "      <td>7.0</td>\n",
       "      <td>7.444833</td>\n",
       "      <td>2.0</td>\n",
       "      <td>4.0</td>\n",
       "      <td>548.0</td>\n",
       "      <td>4.0</td>\n",
       "      <td>49.0</td>\n",
       "      <td>52.113833</td>\n",
       "      <td>14.0</td>\n",
       "      <td>28.0</td>\n",
       "      <td>...</td>\n",
       "      <td>4.0</td>\n",
       "      <td>16.0</td>\n",
       "      <td>10.0</td>\n",
       "      <td>13.506876</td>\n",
       "      <td>13527.136151</td>\n",
       "      <td>13527.136151</td>\n",
       "      <td>10.0</td>\n",
       "      <td>4006.0</td>\n",
       "      <td>4012009.0</td>\n",
       "      <td>40.0</td>\n",
       "    </tr>\n",
       "    <tr>\n",
       "      <th>1</th>\n",
       "      <td>6.0</td>\n",
       "      <td>7.141245</td>\n",
       "      <td>2.0</td>\n",
       "      <td>3.0</td>\n",
       "      <td>460.0</td>\n",
       "      <td>3.0</td>\n",
       "      <td>36.0</td>\n",
       "      <td>42.847471</td>\n",
       "      <td>12.0</td>\n",
       "      <td>18.0</td>\n",
       "      <td>...</td>\n",
       "      <td>4.0</td>\n",
       "      <td>12.0</td>\n",
       "      <td>10.0</td>\n",
       "      <td>14.282490</td>\n",
       "      <td>14111.100362</td>\n",
       "      <td>14111.100362</td>\n",
       "      <td>10.0</td>\n",
       "      <td>3952.0</td>\n",
       "      <td>3904576.0</td>\n",
       "      <td>30.0</td>\n",
       "    </tr>\n",
       "    <tr>\n",
       "      <th>2</th>\n",
       "      <td>7.0</td>\n",
       "      <td>7.488294</td>\n",
       "      <td>2.0</td>\n",
       "      <td>4.0</td>\n",
       "      <td>608.0</td>\n",
       "      <td>4.0</td>\n",
       "      <td>49.0</td>\n",
       "      <td>52.418055</td>\n",
       "      <td>14.0</td>\n",
       "      <td>28.0</td>\n",
       "      <td>...</td>\n",
       "      <td>4.0</td>\n",
       "      <td>12.0</td>\n",
       "      <td>10.0</td>\n",
       "      <td>13.650920</td>\n",
       "      <td>13657.745533</td>\n",
       "      <td>13664.570993</td>\n",
       "      <td>10.0</td>\n",
       "      <td>4002.0</td>\n",
       "      <td>4006002.0</td>\n",
       "      <td>30.0</td>\n",
       "    </tr>\n",
       "    <tr>\n",
       "      <th>3</th>\n",
       "      <td>7.0</td>\n",
       "      <td>7.448916</td>\n",
       "      <td>3.0</td>\n",
       "      <td>3.0</td>\n",
       "      <td>642.0</td>\n",
       "      <td>4.0</td>\n",
       "      <td>49.0</td>\n",
       "      <td>52.142413</td>\n",
       "      <td>21.0</td>\n",
       "      <td>21.0</td>\n",
       "      <td>...</td>\n",
       "      <td>1.0</td>\n",
       "      <td>7.0</td>\n",
       "      <td>4.0</td>\n",
       "      <td>6.869014</td>\n",
       "      <td>13154.162673</td>\n",
       "      <td>13531.958468</td>\n",
       "      <td>4.0</td>\n",
       "      <td>1998.0</td>\n",
       "      <td>3772550.0</td>\n",
       "      <td>28.0</td>\n",
       "    </tr>\n",
       "    <tr>\n",
       "      <th>4</th>\n",
       "      <td>8.0</td>\n",
       "      <td>7.695758</td>\n",
       "      <td>3.0</td>\n",
       "      <td>4.0</td>\n",
       "      <td>836.0</td>\n",
       "      <td>4.0</td>\n",
       "      <td>64.0</td>\n",
       "      <td>61.566064</td>\n",
       "      <td>24.0</td>\n",
       "      <td>32.0</td>\n",
       "      <td>...</td>\n",
       "      <td>4.0</td>\n",
       "      <td>18.0</td>\n",
       "      <td>10.0</td>\n",
       "      <td>14.088066</td>\n",
       "      <td>14088.065795</td>\n",
       "      <td>14088.065795</td>\n",
       "      <td>10.0</td>\n",
       "      <td>4000.0</td>\n",
       "      <td>4000000.0</td>\n",
       "      <td>45.0</td>\n",
       "    </tr>\n",
       "  </tbody>\n",
       "</table>\n",
       "<p>5 rows × 115 columns</p>\n",
       "</div>"
      ],
      "text/plain": [
       "   OverallQual  GrLivArea  GarageCars  ExterQual  GarageArea  KitchenQual  \\\n",
       "0          7.0   7.444833         2.0        4.0       548.0          4.0   \n",
       "1          6.0   7.141245         2.0        3.0       460.0          3.0   \n",
       "2          7.0   7.488294         2.0        4.0       608.0          4.0   \n",
       "3          7.0   7.448916         3.0        3.0       642.0          4.0   \n",
       "4          8.0   7.695758         3.0        4.0       836.0          4.0   \n",
       "\n",
       "   OverallQual^2  OverallQual GrLivArea  OverallQual GarageCars  \\\n",
       "0           49.0              52.113833                    14.0   \n",
       "1           36.0              42.847471                    12.0   \n",
       "2           49.0              52.418055                    14.0   \n",
       "3           49.0              52.142413                    21.0   \n",
       "4           64.0              61.566064                    24.0   \n",
       "\n",
       "   OverallQual ExterQual  ...  GarageFinish FullBath  \\\n",
       "0                   28.0  ...                    4.0   \n",
       "1                   18.0  ...                    4.0   \n",
       "2                   28.0  ...                    4.0   \n",
       "3                   21.0  ...                    1.0   \n",
       "4                   32.0  ...                    4.0   \n",
       "\n",
       "   GarageFinish TotRmsAbvGrd  GarageFinish HeatingQC  1stFlrSF FullBath  \\\n",
       "0                       16.0                    10.0          13.506876   \n",
       "1                       12.0                    10.0          14.282490   \n",
       "2                       12.0                    10.0          13.650920   \n",
       "3                        7.0                     4.0           6.869014   \n",
       "4                       18.0                    10.0          14.088066   \n",
       "\n",
       "   1stFlrSF YearBuilt  1stFlrSF YearRemodAdd  FullBath HeatingQC  \\\n",
       "0        13527.136151           13527.136151                10.0   \n",
       "1        14111.100362           14111.100362                10.0   \n",
       "2        13657.745533           13664.570993                10.0   \n",
       "3        13154.162673           13531.958468                 4.0   \n",
       "4        14088.065795           14088.065795                10.0   \n",
       "\n",
       "   FullBath GarageYrBlt  YearBuilt YearRemodAdd  TotRmsAbvGrd HeatingQC  \n",
       "0                4006.0               4012009.0                    40.0  \n",
       "1                3952.0               3904576.0                    30.0  \n",
       "2                4002.0               4006002.0                    30.0  \n",
       "3                1998.0               3772550.0                    28.0  \n",
       "4                4000.0               4000000.0                    45.0  \n",
       "\n",
       "[5 rows x 115 columns]"
      ]
     },
     "execution_count": 19,
     "metadata": {},
     "output_type": "execute_result"
    }
   ],
   "source": [
    "X_filtered.head()"
   ]
  }
 ],
 "metadata": {
  "kernelspec": {
   "display_name": "Python 3",
   "language": "python",
   "name": "python3"
  },
  "language_info": {
   "codemirror_mode": {
    "name": "ipython",
    "version": 3
   },
   "file_extension": ".py",
   "mimetype": "text/x-python",
   "name": "python",
   "nbconvert_exporter": "python",
   "pygments_lexer": "ipython3",
   "version": "3.13.1"
  }
 },
 "nbformat": 4,
 "nbformat_minor": 5
}
